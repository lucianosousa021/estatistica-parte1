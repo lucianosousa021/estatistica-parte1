{
 "cells": [
  {
   "cell_type": "markdown",
   "metadata": {
    "colab_type": "text",
    "id": "WvMflodMjQKe"
   },
   "source": [
    "***\n",
    "# <font color=green size=10>CURSO DE ESTATÍSTICA - PARTE 1</font>\n",
    "***\n",
    "\n",
    "## Trabalho de Análise Descritiva de um Conjunto de Dados\n",
    "\n",
    "Utilizando os conhecimentos adquiridos em nosso treinamento realize uma análise descritiva básica de um conjunto de dados retirados da Pesquisa Nacional por Amostra de Domicílios - 2015 do IBGE. \n",
    "\n",
    "Vamos construir histogramas, calcular e avaliar medidas de tendência central, medidas separatrizes e de dispersão dos dados.\n",
    "\n",
    "Siga o roteiro proposto e vá completando as células vazias. Procure pensar em mais informações interessantes que podem ser exploradas em nosso dataset."
   ]
  },
  {
   "cell_type": "markdown",
   "metadata": {
    "colab_type": "text",
    "id": "cVgsZ_E3jQKg"
   },
   "source": [
    "# <font color=green>DATASET DO PROJETO</font>\n",
    "***"
   ]
  },
  {
   "cell_type": "markdown",
   "metadata": {
    "colab_type": "text",
    "id": "iN1gIbaKjQKh"
   },
   "source": [
    "### Pesquisa Nacional por Amostra de Domicílios - 2015\n",
    "\n",
    "A <b>Pesquisa Nacional por Amostra de Domicílios - PNAD</b> investiga anualmente, de forma permanente, características gerais da população, de educação, trabalho, rendimento e habitação e outras, com periodicidade variável, de acordo com as necessidades de informação para o país, como as características sobre migração, fecundidade, nupcialidade, saúde, segurança alimentar, entre outros temas. O levantamento dessas estatísticas constitui, ao longo dos 49 anos de realização da pesquisa, um importante instrumento para formulação, validação e avaliação de políticas orientadas para o desenvolvimento socioeconômico e a melhoria das condições de vida no Brasil."
   ]
  },
  {
   "cell_type": "markdown",
   "metadata": {
    "colab_type": "text",
    "id": "U6V7br1RjQKi"
   },
   "source": [
    "### Fonte dos Dados\n",
    "\n",
    "https://ww2.ibge.gov.br/home/estatistica/populacao/trabalhoerendimento/pnad2015/microdados.shtm"
   ]
  },
  {
   "cell_type": "markdown",
   "metadata": {
    "colab_type": "text",
    "id": "r0Fe_qnzjQKj"
   },
   "source": [
    "### Variáveis utilizadas\n",
    "\n",
    "> ### Renda\n",
    "> ***\n",
    "\n",
    "Rendimento mensal do trabalho principal para pessoas de 10 anos ou mais de idade.\n",
    "\n",
    "> ### Idade\n",
    "> ***\n",
    "\n",
    "Idade do morador na data de referência em anos.\n",
    "\n",
    "> ### Altura (elaboração própria)\n",
    "> ***\n",
    "\n",
    "Altura do morador em metros.\n",
    "\n",
    "> ### UF\n",
    "> ***\n",
    "\n",
    "|Código|Descrição|\n",
    "|---|---|\n",
    "|11|Rondônia|\n",
    "|12|Acre|\n",
    "|13|Amazonas|\n",
    "|14|Roraima|\n",
    "|15|Pará|\n",
    "|16|Amapá|\n",
    "|17|Tocantins|\n",
    "|21|Maranhão|\n",
    "|22|Piauí|\n",
    "|23|Ceará|\n",
    "|24|Rio Grande do Norte|\n",
    "|25|Paraíba|\n",
    "|26|Pernambuco|\n",
    "|27|Alagoas|\n",
    "|28|Sergipe|\n",
    "|29|Bahia|\n",
    "|31|Minas Gerais|\n",
    "|32|Espírito Santo|\n",
    "|33|Rio de Janeiro|\n",
    "|35|São Paulo|\n",
    "|41|Paraná|\n",
    "|42|Santa Catarina|\n",
    "|43|Rio Grande do Sul|\n",
    "|50|Mato Grosso do Sul|\n",
    "|51|Mato Grosso|\n",
    "|52|Goiás|\n",
    "|53|Distrito Federal|\n",
    "\n",
    "> ### Sexo\t\n",
    "> ***\n",
    "\n",
    "|Código|Descrição|\n",
    "|---|---|\n",
    "|0|Masculino|\n",
    "|1|Feminino|\n",
    "\n",
    "> ### Anos de Estudo\n",
    "> ***\n",
    "\n",
    "|Código|Descrição|\n",
    "|---|---|\n",
    "|1|Sem instrução e menos de 1 ano|\n",
    "|2|1 ano|\n",
    "|3|2 anos|\n",
    "|4|3 anos|\n",
    "|5|4 anos|\n",
    "|6|5 anos|\n",
    "|7|6 anos|\n",
    "|8|7 anos|\n",
    "|9|8 anos|\n",
    "|10|9 anos|\n",
    "|11|10 anos|\n",
    "|12|11 anos|\n",
    "|13|12 anos|\n",
    "|14|13 anos|\n",
    "|15|14 anos|\n",
    "|16|15 anos ou mais|\n",
    "|17|Não determinados| \n",
    "||Não aplicável|\n",
    "\n",
    "> ### Cor\n",
    "> ***\n",
    "\n",
    "|Código|Descrição|\n",
    "|---|---|\n",
    "|0|Indígena|\n",
    "|2|Branca|\n",
    "|4|Preta|\n",
    "|6|Amarela|\n",
    "|8|Parda|\n",
    "|9|Sem declaração|"
   ]
  },
  {
   "cell_type": "markdown",
   "metadata": {
    "colab_type": "text",
    "id": "OK1IQH5cX7Gb"
   },
   "source": [
    "#### <font color='red'>Observação</font>\n",
    "***\n",
    "> Os seguintes tratamentos foram realizados nos dados originais:\n",
    "> 1. Foram eliminados os registros onde a <b>Renda</b> era inválida (999 999 999 999);\n",
    "> 2. Foram eliminados os registros onde a <b>Renda</b> era missing;\n",
    "> 3. Foram considerados somente os registros das <b>Pessoas de Referência</b> de cada domicílio (responsável pelo domicílio)."
   ]
  },
  {
   "cell_type": "markdown",
   "metadata": {
    "colab_type": "text",
    "id": "ZIqLOffNTg1Y"
   },
   "source": [
    "***\n",
    "***"
   ]
  },
  {
   "cell_type": "markdown",
   "metadata": {
    "colab_type": "text",
    "id": "8Rw70V6ojQKk"
   },
   "source": [
    "### Utilize a célula abaixo para importar as biblioteca que precisar para executar as tarefas\n",
    "#### <font color='red'>Sugestões: pandas, numpy, seaborn</font>"
   ]
  },
  {
   "cell_type": "code",
   "execution_count": 1,
   "metadata": {
    "colab": {},
    "colab_type": "code",
    "id": "fcTgimHBybMz"
   },
   "outputs": [],
   "source": [
    "import pandas as pd\n",
    "import seaborn as sns\n",
    "import numpy as np"
   ]
  },
  {
   "cell_type": "markdown",
   "metadata": {
    "colab_type": "text",
    "id": "2a-gvBvCULwt"
   },
   "source": [
    "### Importe o dataset e armazene o conteúdo em uma DataFrame"
   ]
  },
  {
   "cell_type": "code",
   "execution_count": 4,
   "metadata": {
    "colab": {},
    "colab_type": "code",
    "id": "ufRZ7TLwjQKo"
   },
   "outputs": [],
   "source": [
    "dados = pd.read_csv('dados.csv')"
   ]
  },
  {
   "cell_type": "markdown",
   "metadata": {
    "colab_type": "text",
    "id": "Oq3CKHCmTg1j"
   },
   "source": [
    "### Visualize o conteúdo do DataFrame"
   ]
  },
  {
   "cell_type": "code",
   "execution_count": 5,
   "metadata": {
    "colab": {},
    "colab_type": "code",
    "id": "GsC_WhLFjQKq",
    "scrolled": true
   },
   "outputs": [
    {
     "data": {
      "text/html": [
       "<div>\n",
       "<style scoped>\n",
       "    .dataframe tbody tr th:only-of-type {\n",
       "        vertical-align: middle;\n",
       "    }\n",
       "\n",
       "    .dataframe tbody tr th {\n",
       "        vertical-align: top;\n",
       "    }\n",
       "\n",
       "    .dataframe thead th {\n",
       "        text-align: right;\n",
       "    }\n",
       "</style>\n",
       "<table border=\"1\" class=\"dataframe\">\n",
       "  <thead>\n",
       "    <tr style=\"text-align: right;\">\n",
       "      <th></th>\n",
       "      <th>UF</th>\n",
       "      <th>Sexo</th>\n",
       "      <th>Idade</th>\n",
       "      <th>Cor</th>\n",
       "      <th>Anos de Estudo</th>\n",
       "      <th>Renda</th>\n",
       "      <th>Altura</th>\n",
       "    </tr>\n",
       "  </thead>\n",
       "  <tbody>\n",
       "    <tr>\n",
       "      <th>0</th>\n",
       "      <td>11</td>\n",
       "      <td>0</td>\n",
       "      <td>23</td>\n",
       "      <td>8</td>\n",
       "      <td>12</td>\n",
       "      <td>800</td>\n",
       "      <td>1.603808</td>\n",
       "    </tr>\n",
       "    <tr>\n",
       "      <th>1</th>\n",
       "      <td>11</td>\n",
       "      <td>1</td>\n",
       "      <td>23</td>\n",
       "      <td>2</td>\n",
       "      <td>12</td>\n",
       "      <td>1150</td>\n",
       "      <td>1.739790</td>\n",
       "    </tr>\n",
       "    <tr>\n",
       "      <th>2</th>\n",
       "      <td>11</td>\n",
       "      <td>1</td>\n",
       "      <td>35</td>\n",
       "      <td>8</td>\n",
       "      <td>15</td>\n",
       "      <td>880</td>\n",
       "      <td>1.760444</td>\n",
       "    </tr>\n",
       "    <tr>\n",
       "      <th>3</th>\n",
       "      <td>11</td>\n",
       "      <td>0</td>\n",
       "      <td>46</td>\n",
       "      <td>2</td>\n",
       "      <td>6</td>\n",
       "      <td>3500</td>\n",
       "      <td>1.783158</td>\n",
       "    </tr>\n",
       "    <tr>\n",
       "      <th>4</th>\n",
       "      <td>11</td>\n",
       "      <td>1</td>\n",
       "      <td>47</td>\n",
       "      <td>8</td>\n",
       "      <td>9</td>\n",
       "      <td>150</td>\n",
       "      <td>1.690631</td>\n",
       "    </tr>\n",
       "    <tr>\n",
       "      <th>...</th>\n",
       "      <td>...</td>\n",
       "      <td>...</td>\n",
       "      <td>...</td>\n",
       "      <td>...</td>\n",
       "      <td>...</td>\n",
       "      <td>...</td>\n",
       "      <td>...</td>\n",
       "    </tr>\n",
       "    <tr>\n",
       "      <th>76835</th>\n",
       "      <td>53</td>\n",
       "      <td>1</td>\n",
       "      <td>46</td>\n",
       "      <td>2</td>\n",
       "      <td>11</td>\n",
       "      <td>812</td>\n",
       "      <td>1.687030</td>\n",
       "    </tr>\n",
       "    <tr>\n",
       "      <th>76836</th>\n",
       "      <td>53</td>\n",
       "      <td>0</td>\n",
       "      <td>30</td>\n",
       "      <td>4</td>\n",
       "      <td>7</td>\n",
       "      <td>1500</td>\n",
       "      <td>1.792934</td>\n",
       "    </tr>\n",
       "    <tr>\n",
       "      <th>76837</th>\n",
       "      <td>53</td>\n",
       "      <td>0</td>\n",
       "      <td>32</td>\n",
       "      <td>8</td>\n",
       "      <td>12</td>\n",
       "      <td>1300</td>\n",
       "      <td>1.830587</td>\n",
       "    </tr>\n",
       "    <tr>\n",
       "      <th>76838</th>\n",
       "      <td>53</td>\n",
       "      <td>0</td>\n",
       "      <td>57</td>\n",
       "      <td>8</td>\n",
       "      <td>4</td>\n",
       "      <td>1500</td>\n",
       "      <td>1.726344</td>\n",
       "    </tr>\n",
       "    <tr>\n",
       "      <th>76839</th>\n",
       "      <td>53</td>\n",
       "      <td>0</td>\n",
       "      <td>38</td>\n",
       "      <td>8</td>\n",
       "      <td>4</td>\n",
       "      <td>900</td>\n",
       "      <td>1.658305</td>\n",
       "    </tr>\n",
       "  </tbody>\n",
       "</table>\n",
       "<p>76840 rows × 7 columns</p>\n",
       "</div>"
      ],
      "text/plain": [
       "       UF  Sexo  Idade  Cor  Anos de Estudo  Renda    Altura\n",
       "0      11     0     23    8              12    800  1.603808\n",
       "1      11     1     23    2              12   1150  1.739790\n",
       "2      11     1     35    8              15    880  1.760444\n",
       "3      11     0     46    2               6   3500  1.783158\n",
       "4      11     1     47    8               9    150  1.690631\n",
       "...    ..   ...    ...  ...             ...    ...       ...\n",
       "76835  53     1     46    2              11    812  1.687030\n",
       "76836  53     0     30    4               7   1500  1.792934\n",
       "76837  53     0     32    8              12   1300  1.830587\n",
       "76838  53     0     57    8               4   1500  1.726344\n",
       "76839  53     0     38    8               4    900  1.658305\n",
       "\n",
       "[76840 rows x 7 columns]"
      ]
     },
     "execution_count": 5,
     "metadata": {},
     "output_type": "execute_result"
    }
   ],
   "source": [
    "dados"
   ]
  },
  {
   "cell_type": "markdown",
   "metadata": {
    "colab_type": "text",
    "id": "HDrFJQitTg1n"
   },
   "source": [
    "### Para avaliarmos o comportamento da variável RENDA vamos construir uma tabela de frequências considerando as seguintes classes em salários mínimos (SM)\n",
    "#### <font color='blue'>Descreva os pontos mais relevantes que você observa na tabela e no gráfico.</font>\n",
    "\n",
    "Classes de renda:\n",
    "\n",
    "<b>A</b> ► Acima de 25 SM\n",
    "\n",
    "<b>B</b> ► De 15 a 25 SM\n",
    "\n",
    "<b>C</b> ► De 5 a 15 SM\n",
    "\n",
    "<b>D</b> ► De 2 a 5 SM\n",
    "\n",
    "<b>E</b> ► Até 2 SM\n",
    "\n",
    "Para construir as classes de renda considere que o salário mínimo na época da pesquisa era de <b>R$ 788,00</b>.\n",
    "\n",
    "#### Siga os passos abaixo:"
   ]
  },
  {
   "cell_type": "markdown",
   "metadata": {
    "colab_type": "text",
    "id": "zJBkeGxiTg1o"
   },
   "source": [
    "### 1º Definir os intevalos das classes em reais (R$)"
   ]
  },
  {
   "cell_type": "code",
   "execution_count": 49,
   "metadata": {
    "colab": {},
    "colab_type": "code",
    "id": "-Ct3QUj6Tg1p"
   },
   "outputs": [
    {
     "data": {
      "text/plain": [
       "[0, 1576, 3152, 7880, 15760, 200000]"
      ]
     },
     "execution_count": 49,
     "metadata": {},
     "output_type": "execute_result"
    }
   ],
   "source": [
    "intervalos_de_renda = [0, 1576, 3152, 7880, 15760, dados.Renda.max()]\n",
    "intervalos_de_renda"
   ]
  },
  {
   "cell_type": "markdown",
   "metadata": {
    "colab_type": "text",
    "id": "dZ7X37CGTg1t"
   },
   "source": [
    "### 2º Definir os labels das classes"
   ]
  },
  {
   "cell_type": "code",
   "execution_count": 51,
   "metadata": {
    "colab": {},
    "colab_type": "code",
    "id": "4UFOzitTTg1u"
   },
   "outputs": [
    {
     "data": {
      "text/plain": [
       "['Até 2 SM', '2 a 5 SM', '5 a 15 SM', '15 a 25 SM', 'Acima de 25 SM']"
      ]
     },
     "execution_count": 51,
     "metadata": {},
     "output_type": "execute_result"
    }
   ],
   "source": [
    "label_intervalos_de_renda = ['Até 2 SM', '2 a 5 SM', '5 a 15 SM', '15 a 25 SM', 'Acima de 25 SM']\n",
    "label_intervalos_de_renda"
   ]
  },
  {
   "cell_type": "markdown",
   "metadata": {
    "colab_type": "text",
    "id": "umFq1o-UTg1w"
   },
   "source": [
    "### 3º Construir a coluna de frequências"
   ]
  },
  {
   "cell_type": "code",
   "execution_count": 150,
   "metadata": {
    "colab": {},
    "colab_type": "code",
    "id": "uSztBoqOTg1x"
   },
   "outputs": [
    {
     "data": {
      "text/plain": [
       "Até 2 SM          49755\n",
       "2 a 5 SM          16700\n",
       "5 a 15 SM          7599\n",
       "15 a 25 SM         2178\n",
       "Acima de 25 SM      608\n",
       "Name: Renda, dtype: int64"
      ]
     },
     "execution_count": 150,
     "metadata": {},
     "output_type": "execute_result"
    }
   ],
   "source": [
    "classes = pd.cut(dados.Renda,\n",
    "                    bins=intervalos_de_renda,\n",
    "                    labels=label_intervalos_de_renda,\n",
    "                    include_lowest=True,\n",
    "                    )\n",
    "frequencia = pd.value_counts(classes)\n",
    "frequencia"
   ]
  },
  {
   "cell_type": "markdown",
   "metadata": {
    "colab_type": "text",
    "id": "2k6nGUZKTg11"
   },
   "source": [
    "### 4º Construir a coluna de percentuais"
   ]
  },
  {
   "cell_type": "code",
   "execution_count": 58,
   "metadata": {
    "colab": {},
    "colab_type": "code",
    "id": "rdwUABsnTg12"
   },
   "outputs": [
    {
     "data": {
      "text/plain": [
       "Até 2 SM          64.75\n",
       "2 a 5 SM          21.73\n",
       "5 a 15 SM          9.89\n",
       "15 a 25 SM         2.83\n",
       "Acima de 25 SM     0.79\n",
       "Name: Renda, dtype: float64"
      ]
     },
     "execution_count": 58,
     "metadata": {},
     "output_type": "execute_result"
    }
   ],
   "source": [
    "percentual = (pd.value_counts(classes, normalize=True)*100).round(2)\n",
    "percentual"
   ]
  },
  {
   "cell_type": "markdown",
   "metadata": {
    "colab_type": "text",
    "id": "9dvk6-9_Tg16"
   },
   "source": [
    "### 5º Juntar as colunas de frequência e percentuais e ordenar as linhas de acordo com os labels das classes"
   ]
  },
  {
   "cell_type": "code",
   "execution_count": 152,
   "metadata": {
    "colab": {},
    "colab_type": "code",
    "id": "tO_bcMmgTg16"
   },
   "outputs": [
    {
     "data": {
      "text/html": [
       "<div>\n",
       "<style scoped>\n",
       "    .dataframe tbody tr th:only-of-type {\n",
       "        vertical-align: middle;\n",
       "    }\n",
       "\n",
       "    .dataframe tbody tr th {\n",
       "        vertical-align: top;\n",
       "    }\n",
       "\n",
       "    .dataframe thead th {\n",
       "        text-align: right;\n",
       "    }\n",
       "</style>\n",
       "<table border=\"1\" class=\"dataframe\">\n",
       "  <thead>\n",
       "    <tr style=\"text-align: right;\">\n",
       "      <th>Classe</th>\n",
       "      <th>Frequência</th>\n",
       "      <th>Percentual</th>\n",
       "    </tr>\n",
       "  </thead>\n",
       "  <tbody>\n",
       "    <tr>\n",
       "      <th>Acima de 25 SM</th>\n",
       "      <td>608</td>\n",
       "      <td>0.79</td>\n",
       "    </tr>\n",
       "    <tr>\n",
       "      <th>15 a 25 SM</th>\n",
       "      <td>2178</td>\n",
       "      <td>2.83</td>\n",
       "    </tr>\n",
       "    <tr>\n",
       "      <th>5 a 15 SM</th>\n",
       "      <td>7599</td>\n",
       "      <td>9.89</td>\n",
       "    </tr>\n",
       "    <tr>\n",
       "      <th>2 a 5 SM</th>\n",
       "      <td>16700</td>\n",
       "      <td>21.73</td>\n",
       "    </tr>\n",
       "    <tr>\n",
       "      <th>Até 2 SM</th>\n",
       "      <td>49755</td>\n",
       "      <td>64.75</td>\n",
       "    </tr>\n",
       "  </tbody>\n",
       "</table>\n",
       "</div>"
      ],
      "text/plain": [
       "Classe          Frequência  Percentual\n",
       "Acima de 25 SM         608        0.79\n",
       "15 a 25 SM            2178        2.83\n",
       "5 a 15 SM             7599        9.89\n",
       "2 a 5 SM             16700       21.73\n",
       "Até 2 SM             49755       64.75"
      ]
     },
     "execution_count": 152,
     "metadata": {},
     "output_type": "execute_result"
    }
   ],
   "source": [
    "freq_e_perc = pd.DataFrame({'Frequência':frequencia, 'Percentual':percentual})\n",
    "freq_e_perc = freq_e_perc.rename_axis('Classe', axis=1)\n",
    "freq_e_perc.sort_index(ascending=False)"
   ]
  },
  {
   "cell_type": "markdown",
   "metadata": {
    "colab_type": "text",
    "id": "DOYtXuSbTg18"
   },
   "source": [
    "### Construa um gráfico de barras para visualizar as informações da tabela de frequências acima"
   ]
  },
  {
   "cell_type": "code",
   "execution_count": 76,
   "metadata": {
    "colab": {},
    "colab_type": "code",
    "id": "e4mDPKf1Tg18"
   },
   "outputs": [
    {
     "data": {
      "image/png": "[encoded data removed]",
      "text/plain": [
       "<Figure size 432x288 with 1 Axes>"
      ]
     },
     "metadata": {},
     "output_type": "display_data"
    }
   ],
   "source": [
    "sns.set_theme(style=\"darkgrid\")\n",
    "ax = sns.barplot(data=freq_e_perc, y=freq_e_perc['Frequência'], x=freq_e_perc.index)"
   ]
  },
  {
   "cell_type": "markdown",
   "metadata": {
    "colab_type": "text",
    "id": "9ppt5JevTg1-"
   },
   "source": [
    "> ### Conclusões\n",
    "\n",
    "Escreva suas conclusões aqui..."
   ]
  },
  {
   "cell_type": "markdown",
   "metadata": {
    "colab_type": "text",
    "id": "yt-gFm93Tg1-"
   },
   "source": [
    "### Crie um histograma para as variáveis QUANTITATIVAS de nosso dataset\n",
    "#### <font color='blue'>Descreva os pontos mais relevantes que você observa nos gráficos (assimetrias e seus tipos, possíveis causas para determinados comportamentos etc.)</font>"
   ]
  },
  {
   "cell_type": "code",
   "execution_count": 164,
   "metadata": {
    "colab": {},
    "colab_type": "code",
    "id": "DYjq9xasTg1_"
   },
   "outputs": [
    {
     "name": "stderr",
     "output_type": "stream",
     "text": [
      "C:\\Users\\imper\\anaconda3\\lib\\site-packages\\seaborn\\distributions.py:2619: FutureWarning: `distplot` is a deprecated function and will be removed in a future version. Please adapt your code to use either `displot` (a figure-level function with similar flexibility) or `histplot` (an axes-level function for histograms).\n",
      "  warnings.warn(msg, FutureWarning)\n"
     ]
    },
    {
     "data": {
      "text/plain": [
       "Text(0.5, 0, 'Anos')"
      ]
     },
     "execution_count": 164,
     "metadata": {},
     "output_type": "execute_result"
    },
    {
     "data": {
      "image/png": "[encoded data removed]",
      "text/plain": [
       "<Figure size 864x432 with 1 Axes>"
      ]
     },
     "metadata": {},
     "output_type": "display_data"
    }
   ],
   "source": [
    "ax = sns.distplot(dados.Idade)\n",
    "ax.figure.set_size_inches(12,6)\n",
    "ax.set_title('Distribuição de Frequencia - Idade')\n",
    "ax.set_xlabel('Anos')"
   ]
  },
  {
   "cell_type": "code",
   "execution_count": 162,
   "metadata": {},
   "outputs": [
    {
     "name": "stderr",
     "output_type": "stream",
     "text": [
      "C:\\Users\\imper\\anaconda3\\lib\\site-packages\\seaborn\\distributions.py:2619: FutureWarning: `distplot` is a deprecated function and will be removed in a future version. Please adapt your code to use either `displot` (a figure-level function with similar flexibility) or `histplot` (an axes-level function for histograms).\n",
      "  warnings.warn(msg, FutureWarning)\n"
     ]
    },
    {
     "data": {
      "text/plain": [
       "Text(0.5, 0, 'Altura')"
      ]
     },
     "execution_count": 162,
     "metadata": {},
     "output_type": "execute_result"
    },
    {
     "data": {
      "image/png": "[encoded data removed]",
      "text/plain": [
       "<Figure size 864x432 with 1 Axes>"
      ]
     },
     "metadata": {},
     "output_type": "display_data"
    }
   ],
   "source": [
    "ax = sns.distplot(dados.Altura)\n",
    "ax.figure.set_size_inches(12,6)\n",
    "ax.set_title('Distribuição de Frequencia - Altura')\n",
    "ax.set_xlabel('Altura')"
   ]
  },
  {
   "cell_type": "code",
   "execution_count": 165,
   "metadata": {},
   "outputs": [
    {
     "name": "stderr",
     "output_type": "stream",
     "text": [
      "C:\\Users\\imper\\anaconda3\\lib\\site-packages\\seaborn\\distributions.py:2619: FutureWarning: `distplot` is a deprecated function and will be removed in a future version. Please adapt your code to use either `displot` (a figure-level function with similar flexibility) or `histplot` (an axes-level function for histograms).\n",
      "  warnings.warn(msg, FutureWarning)\n"
     ]
    },
    {
     "data": {
      "text/plain": [
       "Text(0.5, 0, 'Valor')"
      ]
     },
     "execution_count": 165,
     "metadata": {},
     "output_type": "execute_result"
    },
    {
     "data": {
      "image/png": "[encoded data removed]",
      "text/plain": [
       "<Figure size 864x432 with 1 Axes>"
      ]
     },
     "metadata": {},
     "output_type": "display_data"
    }
   ],
   "source": [
    "ax = sns.distplot(dados.Renda)\n",
    "ax.figure.set_size_inches(12,6)\n",
    "ax.set_title('Distribuição de Frequencia - Renda')\n",
    "ax.set_xlabel('Valor')"
   ]
  },
  {
   "cell_type": "markdown",
   "metadata": {},
   "source": [
    "### O dado destoa vedivo a descripancea de valores acima dos 70.000 reais e principalmente 200.000 reais"
   ]
  },
  {
   "cell_type": "markdown",
   "metadata": {
    "colab_type": "text",
    "id": "w45i-qJ1Tg2E"
   },
   "source": [
    "> ### Conclusões\n",
    "\n",
    "Escreva suas conclusões aqui..."
   ]
  },
  {
   "cell_type": "markdown",
   "metadata": {
    "colab_type": "text",
    "id": "pnAH1T5fTg2F"
   },
   "source": [
    "### Para a variável RENDA, construa um histograma somente com as informações das pessoas com rendimento até R$ 20.000,00"
   ]
  },
  {
   "cell_type": "code",
   "execution_count": 167,
   "metadata": {
    "colab": {},
    "colab_type": "code",
    "id": "C7zHF1vPTg2G"
   },
   "outputs": [
    {
     "name": "stderr",
     "output_type": "stream",
     "text": [
      "C:\\Users\\imper\\anaconda3\\lib\\site-packages\\seaborn\\distributions.py:2619: FutureWarning: `distplot` is a deprecated function and will be removed in a future version. Please adapt your code to use either `displot` (a figure-level function with similar flexibility) or `histplot` (an axes-level function for histograms).\n",
      "  warnings.warn(msg, FutureWarning)\n"
     ]
    },
    {
     "data": {
      "text/plain": [
       "Text(0.5, 1.0, 'Renda < R$ 20.000,00')"
      ]
     },
     "execution_count": 167,
     "metadata": {},
     "output_type": "execute_result"
    },
    {
     "data": {
      "image/png": "[encoded data removed]",
      "text/plain": [
       "<Figure size 864x432 with 1 Axes>"
      ]
     },
     "metadata": {},
     "output_type": "display_data"
    }
   ],
   "source": [
    "ax = sns.distplot(dados.query(\"Renda < 20000\").Renda)\n",
    "ax.figure.set_size_inches(12,6)\n",
    "ax.set_title('Renda < R$ 20.000,00')"
   ]
  },
  {
   "cell_type": "markdown",
   "metadata": {
    "colab_type": "text",
    "id": "vvtzLOUKTg2H"
   },
   "source": [
    "### Construa uma tabela de frequências e uma com os percentuais do cruzando das variáveis SEXO e COR\n",
    "#### <font color='blue'>Avalie o resultado da tabela e escreva suas principais conclusões</font>\n",
    "#### <font color='red'>Utilize os dicionários abaixo para renomear as linha e colunas das tabelas de frequências e dos gráficos em nosso projeto</font>"
   ]
  },
  {
   "cell_type": "code",
   "execution_count": 104,
   "metadata": {
    "colab": {},
    "colab_type": "code",
    "id": "sChJRo_qTg2I"
   },
   "outputs": [],
   "source": [
    "sexo = {\n",
    "    0: 'Masculino', \n",
    "    1: 'Feminino'\n",
    "}\n",
    "cor = {\n",
    "    0: 'Indígena', \n",
    "    2: 'Branca', \n",
    "    4: 'Preta', \n",
    "    6: 'Amarela', \n",
    "    8: 'Parda', \n",
    "    9: 'Sem declaração'\n",
    "}\n",
    "anos_de_estudo = {\n",
    "    1: 'Sem instrução e menos de 1 ano', \n",
    "    2: '1 ano', \n",
    "    3: '2 anos', \n",
    "    4: '3 anos', \n",
    "    5: '4 anos', \n",
    "    6: '5 anos', \n",
    "    7: '6 anos', \n",
    "    8: '7 anos', \n",
    "    9: '8 anos', \n",
    "    10: '9 anos', \n",
    "    11: '10 anos', \n",
    "    12: '11 anos', \n",
    "    13: '12 anos', \n",
    "    14: '13 anos', \n",
    "    15: '14 anos', \n",
    "    16: '15 anos ou mais', \n",
    "    17: 'Não determinados'\n",
    "}\n",
    "uf = {\n",
    "    11: 'Rondônia', \n",
    "    12: 'Acre', \n",
    "    13: 'Amazonas', \n",
    "    14: 'Roraima', \n",
    "    15: 'Pará', \n",
    "    16: 'Amapá', \n",
    "    17: 'Tocantins', \n",
    "    21: 'Maranhão', \n",
    "    22: 'Piauí', \n",
    "    23: 'Ceará', \n",
    "    24: 'Rio Grande do Norte', \n",
    "    25: 'Paraíba', \n",
    "    26: 'Pernambuco', \n",
    "    27: 'Alagoas', \n",
    "    28: 'Sergipe', \n",
    "    29: 'Bahia', \n",
    "    31: 'Minas Gerais', \n",
    "    32: 'Espírito Santo', \n",
    "    33: 'Rio de Janeiro', \n",
    "    35: 'São Paulo', \n",
    "    41: 'Paraná', \n",
    "    42: 'Santa Catarina', \n",
    "    43: 'Rio Grande do Sul', \n",
    "    50: 'Mato Grosso do Sul', \n",
    "    51: 'Mato Grosso', \n",
    "    52: 'Goiás', \n",
    "    53: 'Distrito Federal'\n",
    "}"
   ]
  },
  {
   "cell_type": "code",
   "execution_count": 175,
   "metadata": {},
   "outputs": [
    {
     "data": {
      "text/html": [
       "<div>\n",
       "<style scoped>\n",
       "    .dataframe tbody tr th:only-of-type {\n",
       "        vertical-align: middle;\n",
       "    }\n",
       "\n",
       "    .dataframe tbody tr th {\n",
       "        vertical-align: top;\n",
       "    }\n",
       "\n",
       "    .dataframe thead th {\n",
       "        text-align: right;\n",
       "    }\n",
       "</style>\n",
       "<table border=\"1\" class=\"dataframe\">\n",
       "  <thead>\n",
       "    <tr style=\"text-align: right;\">\n",
       "      <th>Cor</th>\n",
       "      <th>Indígena</th>\n",
       "      <th>Branca</th>\n",
       "      <th>Preta</th>\n",
       "      <th>Amarela</th>\n",
       "      <th>Parda</th>\n",
       "    </tr>\n",
       "    <tr>\n",
       "      <th>Sexo</th>\n",
       "      <th></th>\n",
       "      <th></th>\n",
       "      <th></th>\n",
       "      <th></th>\n",
       "      <th></th>\n",
       "    </tr>\n",
       "  </thead>\n",
       "  <tbody>\n",
       "    <tr>\n",
       "      <th>Masculino</th>\n",
       "      <td>256</td>\n",
       "      <td>22194</td>\n",
       "      <td>5502</td>\n",
       "      <td>235</td>\n",
       "      <td>25063</td>\n",
       "    </tr>\n",
       "    <tr>\n",
       "      <th>Feminino</th>\n",
       "      <td>101</td>\n",
       "      <td>9621</td>\n",
       "      <td>2889</td>\n",
       "      <td>117</td>\n",
       "      <td>10862</td>\n",
       "    </tr>\n",
       "  </tbody>\n",
       "</table>\n",
       "</div>"
      ],
      "text/plain": [
       "Cor        Indígena  Branca  Preta  Amarela  Parda\n",
       "Sexo                                              \n",
       "Masculino       256   22194   5502      235  25063\n",
       "Feminino        101    9621   2889      117  10862"
      ]
     },
     "execution_count": 175,
     "metadata": {},
     "output_type": "execute_result"
    }
   ],
   "source": [
    "frequencia = pd.crosstab(dados.Sexo, dados.Cor)\n",
    "frequencia = frequencia.rename(index=sexo, columns=cor)\n",
    "frequencia"
   ]
  },
  {
   "cell_type": "code",
   "execution_count": 180,
   "metadata": {},
   "outputs": [
    {
     "data": {
      "text/html": [
       "<div>\n",
       "<style scoped>\n",
       "    .dataframe tbody tr th:only-of-type {\n",
       "        vertical-align: middle;\n",
       "    }\n",
       "\n",
       "    .dataframe tbody tr th {\n",
       "        vertical-align: top;\n",
       "    }\n",
       "\n",
       "    .dataframe thead th {\n",
       "        text-align: right;\n",
       "    }\n",
       "</style>\n",
       "<table border=\"1\" class=\"dataframe\">\n",
       "  <thead>\n",
       "    <tr style=\"text-align: right;\">\n",
       "      <th>Cor</th>\n",
       "      <th>Indígena</th>\n",
       "      <th>Branca</th>\n",
       "      <th>Preta</th>\n",
       "      <th>Amarela</th>\n",
       "      <th>Parda</th>\n",
       "    </tr>\n",
       "    <tr>\n",
       "      <th>Sexo</th>\n",
       "      <th></th>\n",
       "      <th></th>\n",
       "      <th></th>\n",
       "      <th></th>\n",
       "      <th></th>\n",
       "    </tr>\n",
       "  </thead>\n",
       "  <tbody>\n",
       "    <tr>\n",
       "      <th>Masculino</th>\n",
       "      <td>0.33</td>\n",
       "      <td>28.88</td>\n",
       "      <td>7.16</td>\n",
       "      <td>0.31</td>\n",
       "      <td>32.62</td>\n",
       "    </tr>\n",
       "    <tr>\n",
       "      <th>Feminino</th>\n",
       "      <td>0.13</td>\n",
       "      <td>12.52</td>\n",
       "      <td>3.76</td>\n",
       "      <td>0.15</td>\n",
       "      <td>14.14</td>\n",
       "    </tr>\n",
       "  </tbody>\n",
       "</table>\n",
       "</div>"
      ],
      "text/plain": [
       "Cor        Indígena  Branca  Preta  Amarela  Parda\n",
       "Sexo                                              \n",
       "Masculino      0.33   28.88   7.16     0.31  32.62\n",
       "Feminino       0.13   12.52   3.76     0.15  14.14"
      ]
     },
     "execution_count": 180,
     "metadata": {},
     "output_type": "execute_result"
    }
   ],
   "source": [
    "percentual = (pd.crosstab(dados.Sexo, dados.Cor, normalize=True)*100).round(2)\n",
    "percentual.rename(index=sexo, columns=cor, inplace=True)\n",
    "percentual"
   ]
  },
  {
   "cell_type": "markdown",
   "metadata": {
    "colab_type": "text",
    "id": "2jLZmww2Tg2O"
   },
   "source": [
    "> ### Conclusões\n",
    "\n",
    "Escreva suas conclusões aqui..."
   ]
  },
  {
   "cell_type": "markdown",
   "metadata": {
    "colab_type": "text",
    "id": "Aoeayf6zTg2P"
   },
   "source": [
    "## Realize, para a variável RENDA, uma análise descritiva com as ferramentas que aprendemos em nosso treinamento"
   ]
  },
  {
   "cell_type": "markdown",
   "metadata": {
    "colab_type": "text",
    "id": "c2CtT71oTg2P"
   },
   "source": [
    "### Obtenha a média aritimética"
   ]
  },
  {
   "cell_type": "code",
   "execution_count": 181,
   "metadata": {
    "colab": {},
    "colab_type": "code",
    "id": "qlJESCU6Tg2P"
   },
   "outputs": [
    {
     "data": {
      "text/plain": [
       "2000.3831988547631"
      ]
     },
     "execution_count": 181,
     "metadata": {},
     "output_type": "execute_result"
    }
   ],
   "source": [
    "dados.Renda.mean()"
   ]
  },
  {
   "cell_type": "markdown",
   "metadata": {
    "colab_type": "text",
    "id": "Xd4saPBCTg2R"
   },
   "source": [
    "### Obtenha a mediana"
   ]
  },
  {
   "cell_type": "code",
   "execution_count": 182,
   "metadata": {
    "colab": {},
    "colab_type": "code",
    "id": "vHTqX-UATg2R"
   },
   "outputs": [
    {
     "data": {
      "text/plain": [
       "1200.0"
      ]
     },
     "execution_count": 182,
     "metadata": {},
     "output_type": "execute_result"
    }
   ],
   "source": [
    "dados.Renda.median()"
   ]
  },
  {
   "cell_type": "markdown",
   "metadata": {
    "colab_type": "text",
    "id": "_e40rDSwTg2U"
   },
   "source": [
    "### Obtenha a moda"
   ]
  },
  {
   "cell_type": "code",
   "execution_count": 192,
   "metadata": {
    "colab": {},
    "colab_type": "code",
    "id": "BFOOdYOvTg2V"
   },
   "outputs": [
    {
     "data": {
      "text/plain": [
       "788"
      ]
     },
     "execution_count": 192,
     "metadata": {},
     "output_type": "execute_result"
    }
   ],
   "source": [
    "dados.Renda.mode()[0]"
   ]
  },
  {
   "cell_type": "markdown",
   "metadata": {
    "colab_type": "text",
    "id": "Rnr1gOCMTg2X"
   },
   "source": [
    "### Obtenha o desvio médio absoluto"
   ]
  },
  {
   "cell_type": "code",
   "execution_count": 186,
   "metadata": {
    "colab": {},
    "colab_type": "code",
    "id": "TmE_1QDGTg2Y"
   },
   "outputs": [
    {
     "data": {
      "text/plain": [
       "1526.4951371644931"
      ]
     },
     "execution_count": 186,
     "metadata": {},
     "output_type": "execute_result"
    }
   ],
   "source": [
    "dados.Renda.mad()"
   ]
  },
  {
   "cell_type": "markdown",
   "metadata": {
    "colab_type": "text",
    "id": "hCgV_XaQTg2Z"
   },
   "source": [
    "### Obtenha a variância"
   ]
  },
  {
   "cell_type": "code",
   "execution_count": 193,
   "metadata": {
    "colab": {},
    "colab_type": "code",
    "id": "SwRgACeGTg2a"
   },
   "outputs": [
    {
     "data": {
      "text/plain": [
       "11044906.00622118"
      ]
     },
     "execution_count": 193,
     "metadata": {},
     "output_type": "execute_result"
    }
   ],
   "source": [
    "dados.Renda.var()"
   ]
  },
  {
   "cell_type": "markdown",
   "metadata": {
    "colab_type": "text",
    "id": "gsO6MKOcTg2c"
   },
   "source": [
    "### Obtenha o desvio-padrão"
   ]
  },
  {
   "cell_type": "code",
   "execution_count": 184,
   "metadata": {
    "colab": {},
    "colab_type": "code",
    "id": "gR-LVTRYTg2d"
   },
   "outputs": [
    {
     "data": {
      "text/plain": [
       "3323.3877303470294"
      ]
     },
     "execution_count": 184,
     "metadata": {},
     "output_type": "execute_result"
    }
   ],
   "source": [
    "dados.Renda.std()"
   ]
  },
  {
   "cell_type": "markdown",
   "metadata": {
    "colab_type": "text",
    "id": "vG-rdO5fTg2f"
   },
   "source": [
    "### Obtenha a média, mediana e valor máximo da variável RENDA segundo SEXO e COR\n",
    "#### <font color='blue'>Destaque os pontos mais importante que você observa nas tabulações</font>\n",
    "#### <font color='red'>O parâmento <i>aggfunc</i> da função <i>crosstab()</i> pode receber uma lista de funções. Exemplo: <i>aggfunc = {'mean', 'median', 'max'}</i></font>"
   ]
  },
  {
   "cell_type": "code",
   "execution_count": 195,
   "metadata": {
    "colab": {},
    "colab_type": "code",
    "id": "VgxygKWXTg2g"
   },
   "outputs": [
    {
     "data": {
      "text/html": [
       "<div>\n",
       "<style scoped>\n",
       "    .dataframe tbody tr th:only-of-type {\n",
       "        vertical-align: middle;\n",
       "    }\n",
       "\n",
       "    .dataframe tbody tr th {\n",
       "        vertical-align: top;\n",
       "    }\n",
       "\n",
       "    .dataframe thead tr th {\n",
       "        text-align: left;\n",
       "    }\n",
       "\n",
       "    .dataframe thead tr:last-of-type th {\n",
       "        text-align: right;\n",
       "    }\n",
       "</style>\n",
       "<table border=\"1\" class=\"dataframe\">\n",
       "  <thead>\n",
       "    <tr>\n",
       "      <th></th>\n",
       "      <th colspan=\"2\" halign=\"left\">max</th>\n",
       "      <th colspan=\"2\" halign=\"left\">mean</th>\n",
       "      <th colspan=\"2\" halign=\"left\">median</th>\n",
       "    </tr>\n",
       "    <tr>\n",
       "      <th>Sexo</th>\n",
       "      <th>Masculino</th>\n",
       "      <th>Feminino</th>\n",
       "      <th>Masculino</th>\n",
       "      <th>Feminino</th>\n",
       "      <th>Masculino</th>\n",
       "      <th>Feminino</th>\n",
       "    </tr>\n",
       "    <tr>\n",
       "      <th>Cor</th>\n",
       "      <th></th>\n",
       "      <th></th>\n",
       "      <th></th>\n",
       "      <th></th>\n",
       "      <th></th>\n",
       "      <th></th>\n",
       "    </tr>\n",
       "  </thead>\n",
       "  <tbody>\n",
       "    <tr>\n",
       "      <th>Indígena</th>\n",
       "      <td>10000.0</td>\n",
       "      <td>120000.0</td>\n",
       "      <td>1081.710938</td>\n",
       "      <td>2464.386139</td>\n",
       "      <td>797.5</td>\n",
       "      <td>788.0</td>\n",
       "    </tr>\n",
       "    <tr>\n",
       "      <th>Branca</th>\n",
       "      <td>200000.0</td>\n",
       "      <td>100000.0</td>\n",
       "      <td>2925.744435</td>\n",
       "      <td>2109.866750</td>\n",
       "      <td>1700.0</td>\n",
       "      <td>1200.0</td>\n",
       "    </tr>\n",
       "    <tr>\n",
       "      <th>Preta</th>\n",
       "      <td>50000.0</td>\n",
       "      <td>23000.0</td>\n",
       "      <td>1603.861687</td>\n",
       "      <td>1134.596400</td>\n",
       "      <td>1200.0</td>\n",
       "      <td>800.0</td>\n",
       "    </tr>\n",
       "    <tr>\n",
       "      <th>Amarela</th>\n",
       "      <td>50000.0</td>\n",
       "      <td>20000.0</td>\n",
       "      <td>4758.251064</td>\n",
       "      <td>3027.341880</td>\n",
       "      <td>2800.0</td>\n",
       "      <td>1500.0</td>\n",
       "    </tr>\n",
       "    <tr>\n",
       "      <th>Parda</th>\n",
       "      <td>100000.0</td>\n",
       "      <td>30000.0</td>\n",
       "      <td>1659.577425</td>\n",
       "      <td>1176.758516</td>\n",
       "      <td>1200.0</td>\n",
       "      <td>800.0</td>\n",
       "    </tr>\n",
       "  </tbody>\n",
       "</table>\n",
       "</div>"
      ],
      "text/plain": [
       "               max                   mean                 median         \n",
       "Sexo     Masculino  Feminino    Masculino     Feminino Masculino Feminino\n",
       "Cor                                                                      \n",
       "Indígena   10000.0  120000.0  1081.710938  2464.386139     797.5    788.0\n",
       "Branca    200000.0  100000.0  2925.744435  2109.866750    1700.0   1200.0\n",
       "Preta      50000.0   23000.0  1603.861687  1134.596400    1200.0    800.0\n",
       "Amarela    50000.0   20000.0  4758.251064  3027.341880    2800.0   1500.0\n",
       "Parda     100000.0   30000.0  1659.577425  1176.758516    1200.0    800.0"
      ]
     },
     "execution_count": 195,
     "metadata": {},
     "output_type": "execute_result"
    }
   ],
   "source": [
    "mmvm = pd.crosstab(dados.Cor, dados.Sexo, aggfunc={'mean', 'median', 'max'}, values=dados.Renda)\n",
    "mmvm.rename(index=cor, columns=sexo, inplace=True)\n",
    "mmvm"
   ]
  },
  {
   "cell_type": "markdown",
   "metadata": {
    "colab_type": "text",
    "id": "ibndm9iwTg2i"
   },
   "source": [
    "> ### Conclusões\n",
    "\n",
    "Escreva suas conclusões aqui..."
   ]
  },
  {
   "cell_type": "markdown",
   "metadata": {
    "colab_type": "text",
    "id": "CleJ6c1rTg2i"
   },
   "source": [
    "### Obtenha as medidas de dispersão da variável RENDA segundo SEXO e COR\n",
    "#### <font color='blue'>Destaque os pontos mais importante que você observa nas tabulações</font>\n",
    "#### <font color='red'>O parâmento <i>aggfunc</i> da função <i>crosstab()</i> pode receber uma lista de funções. Exemplo: <i>aggfunc = {'mad', 'var', 'std'}</i></font>"
   ]
  },
  {
   "cell_type": "code",
   "execution_count": 197,
   "metadata": {
    "colab": {},
    "colab_type": "code",
    "id": "bNv-eWZ3Tg2j"
   },
   "outputs": [
    {
     "data": {
      "text/html": [
       "<div>\n",
       "<style scoped>\n",
       "    .dataframe tbody tr th:only-of-type {\n",
       "        vertical-align: middle;\n",
       "    }\n",
       "\n",
       "    .dataframe tbody tr th {\n",
       "        vertical-align: top;\n",
       "    }\n",
       "\n",
       "    .dataframe thead tr th {\n",
       "        text-align: left;\n",
       "    }\n",
       "\n",
       "    .dataframe thead tr:last-of-type th {\n",
       "        text-align: right;\n",
       "    }\n",
       "</style>\n",
       "<table border=\"1\" class=\"dataframe\">\n",
       "  <thead>\n",
       "    <tr>\n",
       "      <th></th>\n",
       "      <th colspan=\"2\" halign=\"left\">mad</th>\n",
       "      <th colspan=\"2\" halign=\"left\">std</th>\n",
       "      <th colspan=\"2\" halign=\"left\">var</th>\n",
       "    </tr>\n",
       "    <tr>\n",
       "      <th>Sexo</th>\n",
       "      <th>Masculino</th>\n",
       "      <th>Feminino</th>\n",
       "      <th>Masculino</th>\n",
       "      <th>Feminino</th>\n",
       "      <th>Masculino</th>\n",
       "      <th>Feminino</th>\n",
       "    </tr>\n",
       "    <tr>\n",
       "      <th>Cor</th>\n",
       "      <th></th>\n",
       "      <th></th>\n",
       "      <th></th>\n",
       "      <th></th>\n",
       "      <th></th>\n",
       "      <th></th>\n",
       "    </tr>\n",
       "  </thead>\n",
       "  <tbody>\n",
       "    <tr>\n",
       "      <th>Indígena</th>\n",
       "      <td>798.91</td>\n",
       "      <td>3007.89</td>\n",
       "      <td>1204.09</td>\n",
       "      <td>11957.50</td>\n",
       "      <td>1449841.13</td>\n",
       "      <td>1.429818e+08</td>\n",
       "    </tr>\n",
       "    <tr>\n",
       "      <th>Branca</th>\n",
       "      <td>2261.01</td>\n",
       "      <td>1670.97</td>\n",
       "      <td>4750.79</td>\n",
       "      <td>3251.01</td>\n",
       "      <td>22570023.41</td>\n",
       "      <td>1.056909e+07</td>\n",
       "    </tr>\n",
       "    <tr>\n",
       "      <th>Preta</th>\n",
       "      <td>975.60</td>\n",
       "      <td>705.45</td>\n",
       "      <td>1936.31</td>\n",
       "      <td>1349.80</td>\n",
       "      <td>3749293.59</td>\n",
       "      <td>1.821960e+06</td>\n",
       "    </tr>\n",
       "    <tr>\n",
       "      <th>Amarela</th>\n",
       "      <td>3709.60</td>\n",
       "      <td>2549.15</td>\n",
       "      <td>5740.82</td>\n",
       "      <td>3731.17</td>\n",
       "      <td>32957069.62</td>\n",
       "      <td>1.392166e+07</td>\n",
       "    </tr>\n",
       "    <tr>\n",
       "      <th>Parda</th>\n",
       "      <td>1125.83</td>\n",
       "      <td>811.58</td>\n",
       "      <td>2312.09</td>\n",
       "      <td>1596.23</td>\n",
       "      <td>5345747.15</td>\n",
       "      <td>2.547960e+06</td>\n",
       "    </tr>\n",
       "  </tbody>\n",
       "</table>\n",
       "</div>"
      ],
      "text/plain": [
       "               mad                std                    var              \n",
       "Sexo     Masculino Feminino Masculino  Feminino    Masculino      Feminino\n",
       "Cor                                                                       \n",
       "Indígena    798.91  3007.89   1204.09  11957.50   1449841.13  1.429818e+08\n",
       "Branca     2261.01  1670.97   4750.79   3251.01  22570023.41  1.056909e+07\n",
       "Preta       975.60   705.45   1936.31   1349.80   3749293.59  1.821960e+06\n",
       "Amarela    3709.60  2549.15   5740.82   3731.17  32957069.62  1.392166e+07\n",
       "Parda      1125.83   811.58   2312.09   1596.23   5345747.15  2.547960e+06"
      ]
     },
     "execution_count": 197,
     "metadata": {},
     "output_type": "execute_result"
    }
   ],
   "source": [
    "medidas_dispercao = pd.crosstab(dados.Cor,\n",
    "                                dados.Sexo,\n",
    "                                values=dados.Renda,\n",
    "                                aggfunc={'mad', 'var', 'std'}).round(2)\n",
    "medidas_dispercao.rename(index=cor, columns=sexo, inplace=True)\n",
    "medidas_dispercao"
   ]
  },
  {
   "cell_type": "markdown",
   "metadata": {
    "colab_type": "text",
    "id": "57aHvJMSTg2l"
   },
   "source": [
    "> ### Conclusões\n",
    "\n",
    "Escreva suas conclusões aqui..."
   ]
  },
  {
   "cell_type": "markdown",
   "metadata": {
    "colab_type": "text",
    "id": "QSYjkdyOTg2l"
   },
   "source": [
    "### Construa um box plot da variável RENDA segundo SEXO e COR\n",
    "#### <font color='blue'>É possível verificar algum comportamento diferenciado no rendimento entre os grupos de pessoas analisados? Avalie o gráfico e destaque os pontos mais importantes.</font>\n",
    "#### <font color='red'>1º - Utilize somente as informações de pessoas com renda abaixo de R$ 10.000</font>\n",
    "#### <font color='red'>2º - Para incluir uma terceira variável na construção de um boxplot utilize o parâmetro <i>hue</i> e indique a variável que quer incluir na subdivisão.</font>\n",
    "#### Mais informações: https://seaborn.pydata.org/generated/seaborn.boxplot.html"
   ]
  },
  {
   "cell_type": "code",
   "execution_count": 219,
   "metadata": {},
   "outputs": [
    {
     "data": {
      "text/plain": [
       "<AxesSubplot:title={'center':'Box-plot da RENDA por SEXO e COR'}, xlabel='R$', ylabel='Cor'>"
      ]
     },
     "execution_count": 219,
     "metadata": {},
     "output_type": "execute_result"
    },
    {
     "data": {
      "image/png": "[encoded data removed]",
      "text/plain": [
       "<Figure size 1008x576 with 1 Axes>"
      ]
     },
     "metadata": {},
     "output_type": "display_data"
    }
   ],
   "source": [
    "ax = sns.boxplot(x = 'Renda', y = 'Cor', hue = 'Sexo', data=dados.query('Renda < 10000'), orient='h')\n",
    "\n",
    "ax.figure.set_size_inches(14, 8)    # Personalizando o tamanho da figura\n",
    "\n",
    "ax.set_title('Box-plot da RENDA por SEXO e COR', fontsize=18)    # Configurando o título do gráfico\n",
    "\n",
    "ax.set_xlabel('R$', fontsize=14)    # Configurando o label do eixo X\n",
    "\n",
    "ax.set_ylabel('Cor', fontsize=14)    # Configurando o label do eixo Y\n",
    "ax.set_yticklabels(['Indígena', 'Branca', 'Preta', 'Amarela', 'Parda'], fontsize=12)    # Configurando o label de cada categoria do eixo Y\n",
    "\n",
    "# Configurações da legenda do gráfico (Sexo)\n",
    "handles, _ = ax.get_legend_handles_labels()\n",
    "ax.legend(handles, ['Masculino', 'Feminino'], fontsize=12)\n",
    "\n",
    "ax"
   ]
  },
  {
   "cell_type": "markdown",
   "metadata": {
    "colab_type": "text",
    "id": "ROiIQRFhTg2o"
   },
   "source": [
    "> ### Conclusões\n",
    "\n",
    "Escreva suas conclusões aqui..."
   ]
  },
  {
   "cell_type": "markdown",
   "metadata": {
    "colab_type": "text",
    "id": "zi4BaGooTg2o"
   },
   "source": [
    "# <font color=\"red\">DESAFIO<font>\n",
    "### Qual percentual de pessoas de nosso <i>dataset</i> ganham um salário mínimo (R$ 788,00) ou menos?\n",
    "#### <font color='red'>Utilize a função <i>percentileofscore()</i> do <i>scipy</i> para realizar estas análises.</font>\n",
    "#### Mais informações: https://docs.scipy.org/doc/scipy/reference/generated/scipy.stats.percentileofscore.html\n"
   ]
  },
  {
   "cell_type": "code",
   "execution_count": 226,
   "metadata": {
    "colab": {},
    "colab_type": "code",
    "id": "9DwXo2yITg2p"
   },
   "outputs": [
    {
     "name": "stdout",
     "output_type": "stream",
     "text": [
      "28.87%\n"
     ]
    }
   ],
   "source": [
    "from scipy import stats\n",
    "\n",
    "percentual = stats.percentileofscore(dados.Renda, 788, kind='weak')\n",
    "print(f'{percentual:.2f}%')"
   ]
  },
  {
   "cell_type": "markdown",
   "metadata": {
    "colab_type": "text",
    "id": "bl0fOMuKTg2q"
   },
   "source": [
    "### Qual o valor máximo ganho por 99% das pessoas de nosso <i>dataset</i>?\n",
    "#### <font color='red'>Utilize o método <i>quantile()</i> do <i>pandas</i> para realizar estas análises.</font>"
   ]
  },
  {
   "cell_type": "code",
   "execution_count": 227,
   "metadata": {
    "colab": {},
    "colab_type": "code",
    "id": "cIVwy8bKTg2q"
   },
   "outputs": [
    {
     "data": {
      "text/plain": [
       "15000.0"
      ]
     },
     "execution_count": 227,
     "metadata": {},
     "output_type": "execute_result"
    }
   ],
   "source": [
    "dados.Renda.quantile(.99)"
   ]
  },
  {
   "cell_type": "markdown",
   "metadata": {
    "colab_type": "text",
    "id": "zeRhvtngTg2r"
   },
   "source": [
    "### Obtenha a média, mediana, valor máximo e desvio-padrão da variável RENDA segundo ANOS DE ESTUDO e SEXO\n",
    "#### <font color='blue'>Destaque os pontos mais importante que você observa nas tabulações</font>\n",
    "#### <font color='red'>O parâmento <i>aggfunc</i> da função <i>crosstab()</i> pode receber uma lista de funções. Exemplo: <i>aggfunc = ['mean', 'median', 'max', 'std']</i></font>"
   ]
  },
  {
   "cell_type": "code",
   "execution_count": 238,
   "metadata": {},
   "outputs": [
    {
     "data": {
      "text/html": [
       "<div>\n",
       "<style scoped>\n",
       "    .dataframe tbody tr th:only-of-type {\n",
       "        vertical-align: middle;\n",
       "    }\n",
       "\n",
       "    .dataframe tbody tr th {\n",
       "        vertical-align: top;\n",
       "    }\n",
       "\n",
       "    .dataframe thead tr th {\n",
       "        text-align: left;\n",
       "    }\n",
       "\n",
       "    .dataframe thead tr:last-of-type th {\n",
       "        text-align: right;\n",
       "    }\n",
       "</style>\n",
       "<table border=\"1\" class=\"dataframe\">\n",
       "  <thead>\n",
       "    <tr>\n",
       "      <th></th>\n",
       "      <th colspan=\"2\" halign=\"left\">max</th>\n",
       "      <th colspan=\"2\" halign=\"left\">mean</th>\n",
       "      <th colspan=\"2\" halign=\"left\">median</th>\n",
       "      <th colspan=\"2\" halign=\"left\">std</th>\n",
       "    </tr>\n",
       "    <tr>\n",
       "      <th>Sexo</th>\n",
       "      <th>Masculino</th>\n",
       "      <th>Feminino</th>\n",
       "      <th>Masculino</th>\n",
       "      <th>Feminino</th>\n",
       "      <th>Masculino</th>\n",
       "      <th>Feminino</th>\n",
       "      <th>Masculino</th>\n",
       "      <th>Feminino</th>\n",
       "    </tr>\n",
       "    <tr>\n",
       "      <th>Anos de Estudo</th>\n",
       "      <th></th>\n",
       "      <th></th>\n",
       "      <th></th>\n",
       "      <th></th>\n",
       "      <th></th>\n",
       "      <th></th>\n",
       "      <th></th>\n",
       "      <th></th>\n",
       "    </tr>\n",
       "  </thead>\n",
       "  <tbody>\n",
       "    <tr>\n",
       "      <th>Sem instrução e menos de 1 ano</th>\n",
       "      <td>30000.0</td>\n",
       "      <td>10000.0</td>\n",
       "      <td>799.49</td>\n",
       "      <td>516.20</td>\n",
       "      <td>700.0</td>\n",
       "      <td>390.0</td>\n",
       "      <td>1023.90</td>\n",
       "      <td>639.31</td>\n",
       "    </tr>\n",
       "    <tr>\n",
       "      <th>1 ano</th>\n",
       "      <td>30000.0</td>\n",
       "      <td>2000.0</td>\n",
       "      <td>895.63</td>\n",
       "      <td>492.77</td>\n",
       "      <td>788.0</td>\n",
       "      <td>400.0</td>\n",
       "      <td>1331.95</td>\n",
       "      <td>425.29</td>\n",
       "    </tr>\n",
       "    <tr>\n",
       "      <th>2 anos</th>\n",
       "      <td>40000.0</td>\n",
       "      <td>4000.0</td>\n",
       "      <td>931.18</td>\n",
       "      <td>529.91</td>\n",
       "      <td>788.0</td>\n",
       "      <td>450.0</td>\n",
       "      <td>1435.17</td>\n",
       "      <td>498.23</td>\n",
       "    </tr>\n",
       "    <tr>\n",
       "      <th>3 anos</th>\n",
       "      <td>80000.0</td>\n",
       "      <td>3500.0</td>\n",
       "      <td>1109.20</td>\n",
       "      <td>546.85</td>\n",
       "      <td>800.0</td>\n",
       "      <td>500.0</td>\n",
       "      <td>2143.80</td>\n",
       "      <td>424.12</td>\n",
       "    </tr>\n",
       "    <tr>\n",
       "      <th>4 anos</th>\n",
       "      <td>50000.0</td>\n",
       "      <td>10000.0</td>\n",
       "      <td>1302.33</td>\n",
       "      <td>704.28</td>\n",
       "      <td>1000.0</td>\n",
       "      <td>788.0</td>\n",
       "      <td>1419.82</td>\n",
       "      <td>629.55</td>\n",
       "    </tr>\n",
       "    <tr>\n",
       "      <th>5 anos</th>\n",
       "      <td>35000.0</td>\n",
       "      <td>8000.0</td>\n",
       "      <td>1338.65</td>\n",
       "      <td>781.39</td>\n",
       "      <td>1045.0</td>\n",
       "      <td>788.0</td>\n",
       "      <td>1484.65</td>\n",
       "      <td>635.78</td>\n",
       "    </tr>\n",
       "    <tr>\n",
       "      <th>6 anos</th>\n",
       "      <td>25000.0</td>\n",
       "      <td>6000.0</td>\n",
       "      <td>1448.88</td>\n",
       "      <td>833.73</td>\n",
       "      <td>1200.0</td>\n",
       "      <td>788.0</td>\n",
       "      <td>1476.63</td>\n",
       "      <td>574.55</td>\n",
       "    </tr>\n",
       "    <tr>\n",
       "      <th>7 anos</th>\n",
       "      <td>40000.0</td>\n",
       "      <td>9000.0</td>\n",
       "      <td>1465.50</td>\n",
       "      <td>830.75</td>\n",
       "      <td>1200.0</td>\n",
       "      <td>788.0</td>\n",
       "      <td>1419.71</td>\n",
       "      <td>602.04</td>\n",
       "    </tr>\n",
       "    <tr>\n",
       "      <th>8 anos</th>\n",
       "      <td>30000.0</td>\n",
       "      <td>18000.0</td>\n",
       "      <td>1639.40</td>\n",
       "      <td>933.62</td>\n",
       "      <td>1300.0</td>\n",
       "      <td>800.0</td>\n",
       "      <td>1515.58</td>\n",
       "      <td>896.78</td>\n",
       "    </tr>\n",
       "    <tr>\n",
       "      <th>9 anos</th>\n",
       "      <td>60000.0</td>\n",
       "      <td>20000.0</td>\n",
       "      <td>1508.04</td>\n",
       "      <td>868.02</td>\n",
       "      <td>1200.0</td>\n",
       "      <td>788.0</td>\n",
       "      <td>2137.66</td>\n",
       "      <td>973.22</td>\n",
       "    </tr>\n",
       "    <tr>\n",
       "      <th>10 anos</th>\n",
       "      <td>45000.0</td>\n",
       "      <td>6000.0</td>\n",
       "      <td>1731.27</td>\n",
       "      <td>925.92</td>\n",
       "      <td>1218.0</td>\n",
       "      <td>800.0</td>\n",
       "      <td>2078.61</td>\n",
       "      <td>620.61</td>\n",
       "    </tr>\n",
       "    <tr>\n",
       "      <th>11 anos</th>\n",
       "      <td>200000.0</td>\n",
       "      <td>100000.0</td>\n",
       "      <td>2117.06</td>\n",
       "      <td>1286.79</td>\n",
       "      <td>1500.0</td>\n",
       "      <td>1000.0</td>\n",
       "      <td>2676.54</td>\n",
       "      <td>1819.04</td>\n",
       "    </tr>\n",
       "    <tr>\n",
       "      <th>12 anos</th>\n",
       "      <td>30000.0</td>\n",
       "      <td>120000.0</td>\n",
       "      <td>2470.33</td>\n",
       "      <td>1682.31</td>\n",
       "      <td>1800.0</td>\n",
       "      <td>1200.0</td>\n",
       "      <td>2268.08</td>\n",
       "      <td>4851.83</td>\n",
       "    </tr>\n",
       "    <tr>\n",
       "      <th>13 anos</th>\n",
       "      <td>25000.0</td>\n",
       "      <td>20000.0</td>\n",
       "      <td>3195.10</td>\n",
       "      <td>1911.73</td>\n",
       "      <td>2400.0</td>\n",
       "      <td>1300.0</td>\n",
       "      <td>2797.12</td>\n",
       "      <td>2053.79</td>\n",
       "    </tr>\n",
       "    <tr>\n",
       "      <th>14 anos</th>\n",
       "      <td>50000.0</td>\n",
       "      <td>20000.0</td>\n",
       "      <td>3706.62</td>\n",
       "      <td>2226.46</td>\n",
       "      <td>2500.0</td>\n",
       "      <td>1600.0</td>\n",
       "      <td>3987.21</td>\n",
       "      <td>2064.08</td>\n",
       "    </tr>\n",
       "    <tr>\n",
       "      <th>15 anos ou mais</th>\n",
       "      <td>200000.0</td>\n",
       "      <td>100000.0</td>\n",
       "      <td>6134.28</td>\n",
       "      <td>3899.51</td>\n",
       "      <td>4000.0</td>\n",
       "      <td>2800.0</td>\n",
       "      <td>7447.61</td>\n",
       "      <td>4212.77</td>\n",
       "    </tr>\n",
       "    <tr>\n",
       "      <th>Não determinados</th>\n",
       "      <td>7000.0</td>\n",
       "      <td>3000.0</td>\n",
       "      <td>1295.76</td>\n",
       "      <td>798.17</td>\n",
       "      <td>1200.0</td>\n",
       "      <td>788.0</td>\n",
       "      <td>979.65</td>\n",
       "      <td>459.99</td>\n",
       "    </tr>\n",
       "  </tbody>\n",
       "</table>\n",
       "</div>"
      ],
      "text/plain": [
       "                                     max                mean           \\\n",
       "Sexo                           Masculino  Feminino Masculino Feminino   \n",
       "Anos de Estudo                                                          \n",
       "Sem instrução e menos de 1 ano   30000.0   10000.0    799.49   516.20   \n",
       "1 ano                            30000.0    2000.0    895.63   492.77   \n",
       "2 anos                           40000.0    4000.0    931.18   529.91   \n",
       "3 anos                           80000.0    3500.0   1109.20   546.85   \n",
       "4 anos                           50000.0   10000.0   1302.33   704.28   \n",
       "5 anos                           35000.0    8000.0   1338.65   781.39   \n",
       "6 anos                           25000.0    6000.0   1448.88   833.73   \n",
       "7 anos                           40000.0    9000.0   1465.50   830.75   \n",
       "8 anos                           30000.0   18000.0   1639.40   933.62   \n",
       "9 anos                           60000.0   20000.0   1508.04   868.02   \n",
       "10 anos                          45000.0    6000.0   1731.27   925.92   \n",
       "11 anos                         200000.0  100000.0   2117.06  1286.79   \n",
       "12 anos                          30000.0  120000.0   2470.33  1682.31   \n",
       "13 anos                          25000.0   20000.0   3195.10  1911.73   \n",
       "14 anos                          50000.0   20000.0   3706.62  2226.46   \n",
       "15 anos ou mais                 200000.0  100000.0   6134.28  3899.51   \n",
       "Não determinados                  7000.0    3000.0   1295.76   798.17   \n",
       "\n",
       "                                  median                std           \n",
       "Sexo                           Masculino Feminino Masculino Feminino  \n",
       "Anos de Estudo                                                        \n",
       "Sem instrução e menos de 1 ano     700.0    390.0   1023.90   639.31  \n",
       "1 ano                              788.0    400.0   1331.95   425.29  \n",
       "2 anos                             788.0    450.0   1435.17   498.23  \n",
       "3 anos                             800.0    500.0   2143.80   424.12  \n",
       "4 anos                            1000.0    788.0   1419.82   629.55  \n",
       "5 anos                            1045.0    788.0   1484.65   635.78  \n",
       "6 anos                            1200.0    788.0   1476.63   574.55  \n",
       "7 anos                            1200.0    788.0   1419.71   602.04  \n",
       "8 anos                            1300.0    800.0   1515.58   896.78  \n",
       "9 anos                            1200.0    788.0   2137.66   973.22  \n",
       "10 anos                           1218.0    800.0   2078.61   620.61  \n",
       "11 anos                           1500.0   1000.0   2676.54  1819.04  \n",
       "12 anos                           1800.0   1200.0   2268.08  4851.83  \n",
       "13 anos                           2400.0   1300.0   2797.12  2053.79  \n",
       "14 anos                           2500.0   1600.0   3987.21  2064.08  \n",
       "15 anos ou mais                   4000.0   2800.0   7447.61  4212.77  \n",
       "Não determinados                  1200.0    788.0    979.65   459.99  "
      ]
     },
     "execution_count": 238,
     "metadata": {},
     "output_type": "execute_result"
    }
   ],
   "source": [
    "tabela = pd.crosstab(dados['Anos de Estudo'],\n",
    "                     dados.Sexo,\n",
    "                     aggfunc={'mean', 'median', 'max', 'std'},\n",
    "                     values=dados.Renda).round(2)\n",
    "tabela.rename(columns=sexo, index=anos_de_estudo, inplace=True)\n",
    "tabela"
   ]
  },
  {
   "cell_type": "markdown",
   "metadata": {
    "colab_type": "text",
    "id": "1Rm1n7a_Tg2u"
   },
   "source": [
    "### Construa um box plot da variável RENDA segundo ANOS DE ESTUDO e SEXO\n",
    "#### <font color='blue'>É possível verificar algum comportamento diferenciado no rendimento entre os grupos de pessoas analisados? Avalie o gráfico e destaque os pontos mais importantes.</font>\n",
    "#### <font color='red'>1º - Utilize somente as informações de pessoas com renda abaixo de R$ 10.000</font>\n",
    "#### <font color='red'>2º - Utilize a variável IDADE para identificar se a desigualdade se verifica para pessoas de mesma idade. Exemplo: <i>data=dados.query('Renda < 10000 and Idade == 40')</i> ou <i>data=dados.query('Renda < 10000 and Idade == 50')</i></font>\n",
    "#### <font color='red'>3º - Para incluir uma terceira variável na construção de um boxplot utilize o parâmetro <i>hue</i> e indique a variável que quer incluir na subdivisão.</font>\n",
    "#### Mais informações: https://seaborn.pydata.org/generated/seaborn.boxplot.html"
   ]
  },
  {
   "cell_type": "code",
   "execution_count": 254,
   "metadata": {
    "colab": {},
    "colab_type": "code",
    "id": "rgMU0WyJTg2v",
    "scrolled": false
   },
   "outputs": [
    {
     "data": {
      "text/plain": [
       "<AxesSubplot:title={'center':'Renda x Anos de Estudo e Sexo'}, xlabel='Renda', ylabel='Anos de Estudo'>"
      ]
     },
     "execution_count": 254,
     "metadata": {},
     "output_type": "execute_result"
    },
    {
     "data": {
      "image/png": "[encoded data removed]",
      "text/plain": [
       "<Figure size 1296x576 with 1 Axes>"
      ]
     },
     "metadata": {},
     "output_type": "display_data"
    }
   ],
   "source": [
    "ax = sns.boxplot(data=dados.query('Renda < 10000 & Idade == 50'), y='Anos de Estudo', x='Renda', hue='Sexo', orient='h')\n",
    "ax.figure.set_size_inches(18,8)\n",
    "ax.set_title('Renda x Anos de Estudo e Sexo')\n",
    "handles, _ = ax.get_legend_handles_labels()\n",
    "ax.legend(handles, ['Masculino', 'Feminino'])\n",
    "ax.set_yticklabels([key for key in anos_de_estudo.values()])\n",
    "ax"
   ]
  },
  {
   "cell_type": "markdown",
   "metadata": {
    "colab_type": "text",
    "id": "LrEECOmNTg2w"
   },
   "source": [
    "> ### Conclusões\n",
    "\n",
    "Escreva suas conclusões aqui..."
   ]
  },
  {
   "cell_type": "markdown",
   "metadata": {
    "colab_type": "text",
    "id": "0fIFSxj8Tg2x"
   },
   "source": [
    "### Obtenha a média, mediana, valor máximo e desvio-padrão da variável RENDA segundo as UNIDADES DA FEDERAÇÃO\n",
    "#### <font color='blue'>Destaque os pontos mais importante que você observa nas tabulações</font>\n",
    "#### <font color='red'>Utilize o método <i>groupby()</i> do <i>pandas</i> juntamente com o método <i>agg()</i> para contruir a tabulação. O método <i>agg()</i> pode receber um dicionário especificando qual coluna do DataFrame deve ser utilizada e qual lista de funções estatísticas queremos obter, por exemplo: <i>dados.groupby(['UF']).agg({'Renda': ['mean', 'median', 'max', 'std']})</i></font>"
   ]
  },
  {
   "cell_type": "code",
   "execution_count": 262,
   "metadata": {
    "colab": {},
    "colab_type": "code",
    "id": "91IxQFJoTg2x"
   },
   "outputs": [
    {
     "data": {
      "text/html": [
       "<div>\n",
       "<style scoped>\n",
       "    .dataframe tbody tr th:only-of-type {\n",
       "        vertical-align: middle;\n",
       "    }\n",
       "\n",
       "    .dataframe tbody tr th {\n",
       "        vertical-align: top;\n",
       "    }\n",
       "\n",
       "    .dataframe thead tr th {\n",
       "        text-align: left;\n",
       "    }\n",
       "\n",
       "    .dataframe thead tr:last-of-type th {\n",
       "        text-align: right;\n",
       "    }\n",
       "</style>\n",
       "<table border=\"1\" class=\"dataframe\">\n",
       "  <thead>\n",
       "    <tr>\n",
       "      <th></th>\n",
       "      <th colspan=\"4\" halign=\"left\">Renda</th>\n",
       "    </tr>\n",
       "    <tr>\n",
       "      <th></th>\n",
       "      <th>mean</th>\n",
       "      <th>median</th>\n",
       "      <th>max</th>\n",
       "      <th>std</th>\n",
       "    </tr>\n",
       "    <tr>\n",
       "      <th>UF</th>\n",
       "      <th></th>\n",
       "      <th></th>\n",
       "      <th></th>\n",
       "      <th></th>\n",
       "    </tr>\n",
       "  </thead>\n",
       "  <tbody>\n",
       "    <tr>\n",
       "      <th>Rondônia</th>\n",
       "      <td>1789.761223</td>\n",
       "      <td>1200</td>\n",
       "      <td>50000</td>\n",
       "      <td>2406.161161</td>\n",
       "    </tr>\n",
       "    <tr>\n",
       "      <th>Acre</th>\n",
       "      <td>1506.091782</td>\n",
       "      <td>900</td>\n",
       "      <td>30000</td>\n",
       "      <td>2276.233415</td>\n",
       "    </tr>\n",
       "    <tr>\n",
       "      <th>Amazonas</th>\n",
       "      <td>1445.130100</td>\n",
       "      <td>900</td>\n",
       "      <td>22000</td>\n",
       "      <td>1757.935591</td>\n",
       "    </tr>\n",
       "    <tr>\n",
       "      <th>Roraima</th>\n",
       "      <td>1783.588889</td>\n",
       "      <td>1000</td>\n",
       "      <td>20000</td>\n",
       "      <td>2079.659238</td>\n",
       "    </tr>\n",
       "    <tr>\n",
       "      <th>Pará</th>\n",
       "      <td>1399.076871</td>\n",
       "      <td>850</td>\n",
       "      <td>50000</td>\n",
       "      <td>2053.779555</td>\n",
       "    </tr>\n",
       "    <tr>\n",
       "      <th>Amapá</th>\n",
       "      <td>1861.353516</td>\n",
       "      <td>1200</td>\n",
       "      <td>15580</td>\n",
       "      <td>2020.688632</td>\n",
       "    </tr>\n",
       "    <tr>\n",
       "      <th>Tocantins</th>\n",
       "      <td>1771.094946</td>\n",
       "      <td>1000</td>\n",
       "      <td>60000</td>\n",
       "      <td>2934.590741</td>\n",
       "    </tr>\n",
       "    <tr>\n",
       "      <th>Maranhão</th>\n",
       "      <td>1019.432009</td>\n",
       "      <td>700</td>\n",
       "      <td>30000</td>\n",
       "      <td>1887.816905</td>\n",
       "    </tr>\n",
       "    <tr>\n",
       "      <th>Piauí</th>\n",
       "      <td>1074.550784</td>\n",
       "      <td>750</td>\n",
       "      <td>40000</td>\n",
       "      <td>2373.355726</td>\n",
       "    </tr>\n",
       "    <tr>\n",
       "      <th>Ceará</th>\n",
       "      <td>1255.403692</td>\n",
       "      <td>789</td>\n",
       "      <td>25000</td>\n",
       "      <td>1821.963536</td>\n",
       "    </tr>\n",
       "    <tr>\n",
       "      <th>Rio Grande do Norte</th>\n",
       "      <td>1344.721480</td>\n",
       "      <td>800</td>\n",
       "      <td>15500</td>\n",
       "      <td>1651.805500</td>\n",
       "    </tr>\n",
       "    <tr>\n",
       "      <th>Paraíba</th>\n",
       "      <td>1293.370487</td>\n",
       "      <td>788</td>\n",
       "      <td>30000</td>\n",
       "      <td>1950.272431</td>\n",
       "    </tr>\n",
       "    <tr>\n",
       "      <th>Pernambuco</th>\n",
       "      <td>1527.079319</td>\n",
       "      <td>900</td>\n",
       "      <td>50000</td>\n",
       "      <td>2389.622497</td>\n",
       "    </tr>\n",
       "    <tr>\n",
       "      <th>Alagoas</th>\n",
       "      <td>1144.552602</td>\n",
       "      <td>788</td>\n",
       "      <td>11000</td>\n",
       "      <td>1237.856197</td>\n",
       "    </tr>\n",
       "    <tr>\n",
       "      <th>Sergipe</th>\n",
       "      <td>1109.111111</td>\n",
       "      <td>788</td>\n",
       "      <td>16000</td>\n",
       "      <td>1478.997878</td>\n",
       "    </tr>\n",
       "    <tr>\n",
       "      <th>Bahia</th>\n",
       "      <td>1429.645094</td>\n",
       "      <td>800</td>\n",
       "      <td>200000</td>\n",
       "      <td>3507.917248</td>\n",
       "    </tr>\n",
       "    <tr>\n",
       "      <th>Minas Gerais</th>\n",
       "      <td>2056.432084</td>\n",
       "      <td>1200</td>\n",
       "      <td>100000</td>\n",
       "      <td>3584.721547</td>\n",
       "    </tr>\n",
       "    <tr>\n",
       "      <th>Espírito Santo</th>\n",
       "      <td>2026.383852</td>\n",
       "      <td>1274</td>\n",
       "      <td>100000</td>\n",
       "      <td>3513.846868</td>\n",
       "    </tr>\n",
       "    <tr>\n",
       "      <th>Rio de Janeiro</th>\n",
       "      <td>2496.403168</td>\n",
       "      <td>1400</td>\n",
       "      <td>200000</td>\n",
       "      <td>5214.583518</td>\n",
       "    </tr>\n",
       "    <tr>\n",
       "      <th>São Paulo</th>\n",
       "      <td>2638.104986</td>\n",
       "      <td>1600</td>\n",
       "      <td>80000</td>\n",
       "      <td>3503.777366</td>\n",
       "    </tr>\n",
       "    <tr>\n",
       "      <th>Paraná</th>\n",
       "      <td>2493.870753</td>\n",
       "      <td>1500</td>\n",
       "      <td>200000</td>\n",
       "      <td>4302.937995</td>\n",
       "    </tr>\n",
       "    <tr>\n",
       "      <th>Santa Catarina</th>\n",
       "      <td>2470.854945</td>\n",
       "      <td>1800</td>\n",
       "      <td>80000</td>\n",
       "      <td>3137.651112</td>\n",
       "    </tr>\n",
       "    <tr>\n",
       "      <th>Rio Grande do Sul</th>\n",
       "      <td>2315.158336</td>\n",
       "      <td>1500</td>\n",
       "      <td>35000</td>\n",
       "      <td>2913.335783</td>\n",
       "    </tr>\n",
       "    <tr>\n",
       "      <th>Mato Grosso do Sul</th>\n",
       "      <td>2262.604167</td>\n",
       "      <td>1500</td>\n",
       "      <td>42000</td>\n",
       "      <td>3031.419122</td>\n",
       "    </tr>\n",
       "    <tr>\n",
       "      <th>Mato Grosso</th>\n",
       "      <td>2130.652778</td>\n",
       "      <td>1500</td>\n",
       "      <td>35000</td>\n",
       "      <td>2542.630178</td>\n",
       "    </tr>\n",
       "    <tr>\n",
       "      <th>Goiás</th>\n",
       "      <td>1994.580794</td>\n",
       "      <td>1500</td>\n",
       "      <td>30000</td>\n",
       "      <td>2221.933065</td>\n",
       "    </tr>\n",
       "    <tr>\n",
       "      <th>Distrito Federal</th>\n",
       "      <td>4241.954722</td>\n",
       "      <td>2000</td>\n",
       "      <td>100000</td>\n",
       "      <td>5550.463338</td>\n",
       "    </tr>\n",
       "  </tbody>\n",
       "</table>\n",
       "</div>"
      ],
      "text/plain": [
       "                           Renda                            \n",
       "                            mean median     max          std\n",
       "UF                                                          \n",
       "Rondônia             1789.761223   1200   50000  2406.161161\n",
       "Acre                 1506.091782    900   30000  2276.233415\n",
       "Amazonas             1445.130100    900   22000  1757.935591\n",
       "Roraima              1783.588889   1000   20000  2079.659238\n",
       "Pará                 1399.076871    850   50000  2053.779555\n",
       "Amapá                1861.353516   1200   15580  2020.688632\n",
       "Tocantins            1771.094946   1000   60000  2934.590741\n",
       "Maranhão             1019.432009    700   30000  1887.816905\n",
       "Piauí                1074.550784    750   40000  2373.355726\n",
       "Ceará                1255.403692    789   25000  1821.963536\n",
       "Rio Grande do Norte  1344.721480    800   15500  1651.805500\n",
       "Paraíba              1293.370487    788   30000  1950.272431\n",
       "Pernambuco           1527.079319    900   50000  2389.622497\n",
       "Alagoas              1144.552602    788   11000  1237.856197\n",
       "Sergipe              1109.111111    788   16000  1478.997878\n",
       "Bahia                1429.645094    800  200000  3507.917248\n",
       "Minas Gerais         2056.432084   1200  100000  3584.721547\n",
       "Espírito Santo       2026.383852   1274  100000  3513.846868\n",
       "Rio de Janeiro       2496.403168   1400  200000  5214.583518\n",
       "São Paulo            2638.104986   1600   80000  3503.777366\n",
       "Paraná               2493.870753   1500  200000  4302.937995\n",
       "Santa Catarina       2470.854945   1800   80000  3137.651112\n",
       "Rio Grande do Sul    2315.158336   1500   35000  2913.335783\n",
       "Mato Grosso do Sul   2262.604167   1500   42000  3031.419122\n",
       "Mato Grosso          2130.652778   1500   35000  2542.630178\n",
       "Goiás                1994.580794   1500   30000  2221.933065\n",
       "Distrito Federal     4241.954722   2000  100000  5550.463338"
      ]
     },
     "execution_count": 262,
     "metadata": {},
     "output_type": "execute_result"
    }
   ],
   "source": [
    "dados_por_uf = dados.groupby('UF').agg({ 'Renda': ['mean', 'median', 'max', 'std']})\n",
    "dados_por_uf.rename(index=uf, inplace=True)\n",
    "dados_por_uf"
   ]
  },
  {
   "cell_type": "markdown",
   "metadata": {
    "colab_type": "text",
    "id": "6NfAKimkTg2y"
   },
   "source": [
    "### Construa um box plot da variável RENDA segundo as UNIDADES DA FEDERAÇÃO\n",
    "#### <font color='blue'>É possível verificar algum comportamento diferenciado no rendimento entre os grupos analisados? Avalie o gráfico e destaque os pontos mais importantes.</font>\n",
    "#### <font color='red'>1º - Utilize somente as informações de pessoas com renda abaixo de R$ 10.000</font>"
   ]
  },
  {
   "cell_type": "code",
   "execution_count": 263,
   "metadata": {
    "colab": {},
    "colab_type": "code",
    "id": "XdEGG3blTg2z"
   },
   "outputs": [
    {
     "data": {
      "text/plain": [
       "<AxesSubplot:title={'center':'Box-plot da RENDA por ESTADOS'}, xlabel='R$', ylabel='Estados'>"
      ]
     },
     "execution_count": 263,
     "metadata": {},
     "output_type": "execute_result"
    },
    {
     "data": {
      "image/png": "[encoded data removed]",
      "text/plain": [
       "<Figure size 1008x576 with 1 Axes>"
      ]
     },
     "metadata": {},
     "output_type": "display_data"
    }
   ],
   "source": [
    "ax = sns.boxplot(x = 'Renda', y = 'UF', data=dados.query('Renda < 10000'), orient='h')\n",
    "\n",
    "ax.figure.set_size_inches(14, 8)    # Personalizando o tamanho da figura\n",
    "\n",
    "ax.set_title('Box-plot da RENDA por ESTADOS', fontsize=18)    # Configurando o título do gráfico\n",
    "\n",
    "ax.set_xlabel('R$', fontsize=14)    # Configurando o label do eixo X\n",
    "\n",
    "ax.set_ylabel('Estados', fontsize=14)    # Configurando o label do eixo Y\n",
    "ax.set_yticklabels([key for key in uf.values()], fontsize=12)    # Configurando o label de cada categoria do eixo Y\n",
    "\n",
    "ax"
   ]
  },
  {
   "cell_type": "markdown",
   "metadata": {
    "colab_type": "text",
    "id": "7ssOt3MRTg22"
   },
   "source": [
    "> ### Conclusões\n",
    "\n",
    "Escreva suas conclusões aqui..."
   ]
  }
 ],
 "metadata": {
  "colab": {
   "name": "Análise_Descritiva.ipynb",
   "provenance": [],
   "toc_visible": true,
   "version": "0.3.2"
  },
  "kernelspec": {
   "display_name": "Python 3",
   "language": "python",
   "name": "python3"
  },
  "language_info": {
   "codemirror_mode": {
    "name": "ipython",
    "version": 3
   },
   "file_extension": ".py",
   "mimetype": "text/x-python",
   "name": "python",
   "nbconvert_exporter": "python",
   "pygments_lexer": "ipython3",
   "version": "3.8.5"
  }
 },
 "nbformat": 4,
 "nbformat_minor": 1
}
